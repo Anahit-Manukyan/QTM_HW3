{
 "cells": [
  {
   "cell_type": "markdown",
   "id": "af5c175f",
   "metadata": {},
   "source": [
    "# Anahit Manukyan\n",
    "## Homework 3\n"
   ]
  },
  {
   "cell_type": "markdown",
   "id": "7e4da721",
   "metadata": {},
   "source": [
    "**Problem 1.**\n"
   ]
  },
  {
   "cell_type": "code",
   "execution_count": 1,
   "id": "47c30960",
   "metadata": {},
   "outputs": [],
   "source": [
    "import pandas as pd\n",
    "import numpy as np\n",
    "import seaborn as sns\n",
    "import matplotlib.pyplot as plt"
   ]
  },
  {
   "cell_type": "code",
   "execution_count": 2,
   "id": "2a95b232",
   "metadata": {},
   "outputs": [],
   "source": [
    "import math"
   ]
  },
  {
   "cell_type": "markdown",
   "id": "6bcb8676",
   "metadata": {},
   "source": [
    "P.1 - a. For the following expressions, specify the type of each expression: "
   ]
  },
  {
   "cell_type": "code",
   "execution_count": 3,
   "id": "9ed5c930",
   "metadata": {},
   "outputs": [
    {
     "name": "stdout",
     "output_type": "stream",
     "text": [
      "The type of 225+2.0 is  <class 'float'>\n",
      "The type of 230*2==2*230 is  <class 'bool'>\n",
      "The type of round(1.056) is  <class 'int'>\n",
      "The type of math.ceil(14.56) is  <class 'int'>\n"
     ]
    }
   ],
   "source": [
    "print(\"The type of 225+2.0 is \", type(225+2.0))\n",
    "print(\"The type of 230*2==2*230 is \", type(230*2==2*230))\n",
    "print(\"The type of round(1.056) is \", type(round(1.056)) )\n",
    "print(\"The type of math.ceil(14.56) is \", type(math.ceil(14.56)))\n"
   ]
  },
  {
   "cell_type": "markdown",
   "id": "aca6a262",
   "metadata": {},
   "source": [
    "P.1 - b. Create 3 variables that will ask a user the following information below about their favorite movie and store them as a value of a variable:\n",
    "\n",
    "Then print the values of the four variables with the following message: “My favorite movie is Full name of movie which was directed by Director name and it was premiered in Year of Production”."
   ]
  },
  {
   "cell_type": "code",
   "execution_count": 4,
   "id": "17fd3c4c",
   "metadata": {},
   "outputs": [],
   "source": [
    "movie_name = \"Angel-A\"\n",
    "director_name = \"Luc Besson\"\n",
    "production_year = 2005\n"
   ]
  },
  {
   "cell_type": "code",
   "execution_count": 5,
   "id": "82c9eb47",
   "metadata": {},
   "outputs": [
    {
     "name": "stdout",
     "output_type": "stream",
     "text": [
      "My favorite movie is Angel-A which was directed by Luc Besson and it was premiered in 2005\n"
     ]
    }
   ],
   "source": [
    "print(\"My favorite movie is\", movie_name, \"which was directed by\", director_name,\n",
    "      \"and it was premiered in\", production_year)"
   ]
  },
  {
   "cell_type": "markdown",
   "id": "43617f95",
   "metadata": {},
   "source": [
    "P.1 - c. Create an empty list that is called “Stocks”. To the created empty list, add five stock tickers that you would wish to invest in. "
   ]
  },
  {
   "cell_type": "code",
   "execution_count": 6,
   "id": "445e9b8d",
   "metadata": {},
   "outputs": [
    {
     "data": {
      "text/plain": [
       "[]"
      ]
     },
     "execution_count": 6,
     "metadata": {},
     "output_type": "execute_result"
    }
   ],
   "source": [
    "Stocks = []\n",
    "Stocks"
   ]
  },
  {
   "cell_type": "markdown",
   "id": "4284456d",
   "metadata": {},
   "source": [
    "Let's add values to the empty list"
   ]
  },
  {
   "cell_type": "code",
   "execution_count": 7,
   "id": "5b3db752",
   "metadata": {},
   "outputs": [
    {
     "data": {
      "text/plain": [
       "['AAPL', 'TSLA', 'NFLX', 'AMZN', 'CCL']"
      ]
     },
     "execution_count": 7,
     "metadata": {},
     "output_type": "execute_result"
    }
   ],
   "source": [
    "Stocks.extend([\"AAPL\", \"TSLA\", \"NFLX\", \"AMZN\", \"CCL\"])\n",
    "Stocks"
   ]
  },
  {
   "cell_type": "markdown",
   "id": "405f3194",
   "metadata": {},
   "source": [
    "By using .extend method to add all the elements of an iterable (list, tuple, string etc.) to the end of the list."
   ]
  },
  {
   "cell_type": "markdown",
   "id": "c8882dfe",
   "metadata": {},
   "source": [
    "In the case of .append, we must add elements separately, one-by-one"
   ]
  },
  {
   "cell_type": "markdown",
   "id": "5e07144b",
   "metadata": {},
   "source": [
    "**Problem 2.**"
   ]
  },
  {
   "cell_type": "markdown",
   "id": "9a5af720",
   "metadata": {},
   "source": [
    "P.2 - a. Use if condition to check whether number 25 is an odd or even number. "
   ]
  },
  {
   "cell_type": "markdown",
   "id": "b6903950",
   "metadata": {},
   "source": [
    "We can use both a function or just a condition. Here you can find both cases, with the same logic "
   ]
  },
  {
   "cell_type": "code",
   "execution_count": 8,
   "id": "0c4827cb",
   "metadata": {},
   "outputs": [
    {
     "name": "stdout",
     "output_type": "stream",
     "text": [
      "The number is odd\n"
     ]
    }
   ],
   "source": [
    "# by using functions, here we can try for any number\n",
    "\n",
    "def odd_or_even(num):\n",
    "    if(num%2==0): # % operator returns the remainder, in the case even numbers, we will not have a remainder \n",
    "        print(\"The number is even\")\n",
    "    else:\n",
    "        print(\"The number is odd\")\n",
    "        \n",
    "odd_or_even(25)"
   ]
  },
  {
   "cell_type": "code",
   "execution_count": 9,
   "id": "0fe03670",
   "metadata": {},
   "outputs": [
    {
     "name": "stdout",
     "output_type": "stream",
     "text": [
      "The number is odd\n"
     ]
    }
   ],
   "source": [
    "n = 25\n",
    "\n",
    "if(n%2==0): \n",
    "    print(\"The number is even\")\n",
    "else:\n",
    "    print(\"The number is odd\")\n"
   ]
  },
  {
   "cell_type": "markdown",
   "id": "b16c33e1",
   "metadata": {},
   "source": [
    "P.2 - b. Use if condition and for loop to check if in the wine names below if there is a word “Pinot” then the wine type (variety) should be coded “Pinot Noir”, if there is a word “Areni” then the wine variety should be coded as “Areni”, for the rest of the wines in the list use variety code as “Other”. Print the list of wines with their respective codes, e.g. “Hin Areni Red 2014 : Areni”."
   ]
  },
  {
   "cell_type": "code",
   "execution_count": 10,
   "id": "a8f1e6a0",
   "metadata": {},
   "outputs": [],
   "source": [
    "wines = [\"Thomas Fogarty 2018 Razorback Vineyard Pinot Noir\", \n",
    "      \"Migration 2018 Drum Canyon Vineyard Pinot Noir\", \n",
    "        \"Zorah Voski 2018\", \"Curto Marco 2017 Arborina (Barolo)\",\n",
    "          \"Calera 2018 Jensen Vineyard Pinot Noir\", \"Hin Areni Red 2014\"]"
   ]
  },
  {
   "cell_type": "code",
   "execution_count": 11,
   "id": "9c65d02e",
   "metadata": {},
   "outputs": [
    {
     "name": "stdout",
     "output_type": "stream",
     "text": [
      "Thomas Fogarty 2018 Razorback Vineyard Pinot Noir : Pinot Nori\n",
      "Migration 2018 Drum Canyon Vineyard Pinot Noir : Pinot Nori\n",
      "Other\n",
      "Other\n",
      "Calera 2018 Jensen Vineyard Pinot Noir : Pinot Nori\n",
      "Hin Areni Red 2014 : Areni\n"
     ]
    }
   ],
   "source": [
    "for x in wines: \n",
    "    if(\"Pinot\" in x): \n",
    "        print(x, \": Pinot Nori\")\n",
    "    elif(\"Areni\" in x):\n",
    "        print(x, \": Areni\")\n",
    "    else:\n",
    "        print(\"Other\")"
   ]
  },
  {
   "cell_type": "markdown",
   "id": "d7ce8e5b",
   "metadata": {},
   "source": [
    "**Problem 3**"
   ]
  },
  {
   "cell_type": "markdown",
   "id": "0dc79192",
   "metadata": {},
   "source": [
    "a. Create a dictionary with keys being tickers of five stocks that you would like to invest in while values are the company names. Eg. APPL - Apple Inc."
   ]
  },
  {
   "cell_type": "code",
   "execution_count": 12,
   "id": "c005f7d3",
   "metadata": {},
   "outputs": [
    {
     "data": {
      "text/plain": [
       "{'AAPL': 'Apple Inc.',\n",
       " 'MSFT': 'Microsoft Corporation',\n",
       " 'AMZN': 'Amazon.com, Inc.',\n",
       " 'TSLA': 'Tesla Inc.',\n",
       " 'V': 'Visa Inc.'}"
      ]
     },
     "execution_count": 12,
     "metadata": {},
     "output_type": "execute_result"
    }
   ],
   "source": [
    "stock_dictionary = {\n",
    "    \"AAPL\": \"Apple Inc.\",\n",
    "    \"MSFT\": \"Microsoft Corporation\", \n",
    "    \"AMZN\": \"Amazon.com, Inc.\", \n",
    "    \"TSLA\": \"Tesla Inc.\",\n",
    "    \"V\": \"Visa Inc.\"\n",
    "}\n",
    "\n",
    "stock_dictionary"
   ]
  },
  {
   "cell_type": "markdown",
   "id": "cc5f6e99",
   "metadata": {},
   "source": [
    "stock_dictionary is a simple dictionary, with key-value pairs "
   ]
  },
  {
   "cell_type": "markdown",
   "id": "d59a0730",
   "metadata": {},
   "source": [
    "**Problem 4.**"
   ]
  },
  {
   "cell_type": "markdown",
   "id": "4d484a5d",
   "metadata": {},
   "source": [
    "P.4 - a. Write a function that will calculate maximum number in a given list of numbers. Use your function to print the maximum number in the following list:   [-10,0,12, 3,8,5,6,8,-3]"
   ]
  },
  {
   "cell_type": "code",
   "execution_count": 13,
   "id": "a83b8526",
   "metadata": {},
   "outputs": [],
   "source": [
    "numbers = [-10,0,12, 3,8,5,6,8,-3]"
   ]
  },
  {
   "cell_type": "code",
   "execution_count": 14,
   "id": "df0db2c6",
   "metadata": {},
   "outputs": [
    {
     "name": "stdout",
     "output_type": "stream",
     "text": [
      "12\n"
     ]
    }
   ],
   "source": [
    "def finding_max(num): \n",
    "    temp = float('-inf');\n",
    "    for x in num: \n",
    "        if(x > temp):\n",
    "            temp = x\n",
    "    return temp\n",
    "        \n",
    "\n",
    "print(finding_max(numbers))"
   ]
  },
  {
   "cell_type": "markdown",
   "id": "d3c4029b",
   "metadata": {},
   "source": [
    "In the function, we create a temporary variable <u>temp</u>, which has the smalles float value in python. In the first iteration, temp will become the first number in the array (-10 in this case). Later, it is compared with the other values. "
   ]
  },
  {
   "cell_type": "markdown",
   "id": "7550dde5",
   "metadata": {},
   "source": [
    "      "
   ]
  },
  {
   "cell_type": "markdown",
   "id": "d18d11c1",
   "metadata": {},
   "source": [
    "P.4 - b. Write a function that will ask a user to rate their satisfaction from the services provided by X company by using 1-5 scale. If a user rates 1, then your program should return “Strongly dissatisfied”, 2- “Dissatisfied”, 3- “Neither dissatisfied nor satisfied”, 4- “Satisfied”, 5- “Very satisfied”.  If the score is out of the 1-5 range, the program should print the following information: “Please use 1-5 range to rate your satisfaction”. If a user enters not numeric data, the program should return the following: “Please enter numeric information.”"
   ]
  },
  {
   "cell_type": "code",
   "execution_count": 15,
   "id": "bcb7d922",
   "metadata": {},
   "outputs": [],
   "source": [
    "def rating(): \n",
    "    rate = input(\"Rate your satisfaction from the scale 1-5: \")\n",
    "    rate = int(rate)\n",
    "    \n",
    "    if(rate==1):\n",
    "        return \"Strongly dissatisfied\"\n",
    "    elif(rate==2):\n",
    "        return \"Dissatisfied\"\n",
    "    elif(rate==3):\n",
    "        return \"Neither dissatisfied nor satisfied\"\n",
    "    elif(rate==4):\n",
    "        return \"Satisfied\"\n",
    "    elif(rate==5):\n",
    "        return \"Very satisfied\"\n",
    "    else:\n",
    "        return \"Please use 1-5 range to rate your satisfaction\"\n"
   ]
  },
  {
   "cell_type": "code",
   "execution_count": 16,
   "id": "f3b8b4eb",
   "metadata": {
    "scrolled": true
   },
   "outputs": [
    {
     "name": "stdout",
     "output_type": "stream",
     "text": [
      "Rate your satisfaction from the scale 1-5: 2\n"
     ]
    },
    {
     "data": {
      "text/plain": [
       "'Dissatisfied'"
      ]
     },
     "execution_count": 16,
     "metadata": {},
     "output_type": "execute_result"
    }
   ],
   "source": [
    "rating()"
   ]
  },
  {
   "cell_type": "markdown",
   "id": "23a45817",
   "metadata": {},
   "source": [
    "**Problem 5.** Reading the data"
   ]
  },
  {
   "cell_type": "code",
   "execution_count": null,
   "id": "4a0728e8",
   "metadata": {},
   "outputs": [],
   "source": [
    "data = pd.read_excel(r'C:\\\\Users\\\\User\\\\Affairs.xlsx')"
   ]
  },
  {
   "cell_type": "code",
   "execution_count": null,
   "id": "ae0de9dd",
   "metadata": {},
   "outputs": [],
   "source": [
    "data.head()"
   ]
  },
  {
   "cell_type": "markdown",
   "id": "f8e1d7e7",
   "metadata": {},
   "source": [
    "To understand the data from the first sight, let's look at the basic information about it"
   ]
  },
  {
   "cell_type": "code",
   "execution_count": null,
   "id": "9cf3a8f2",
   "metadata": {},
   "outputs": [],
   "source": [
    "data.info()"
   ]
  },
  {
   "cell_type": "markdown",
   "id": "119435e1",
   "metadata": {},
   "source": [
    "From the first glance, the data has some missing values, and the data types are mainly of object and numerical. <br>\n",
    "Let's see the other sections for more clarifications. "
   ]
  },
  {
   "cell_type": "markdown",
   "id": "c5be27fc",
   "metadata": {},
   "source": [
    "**Problem 6.** "
   ]
  },
  {
   "cell_type": "markdown",
   "id": "a5f6bbca",
   "metadata": {},
   "source": [
    "P.6 - a. How many rows and how many columns are in the data?"
   ]
  },
  {
   "cell_type": "code",
   "execution_count": null,
   "id": "65c46659",
   "metadata": {},
   "outputs": [],
   "source": [
    "data.shape"
   ]
  },
  {
   "cell_type": "markdown",
   "id": "2462a0d4",
   "metadata": {},
   "source": [
    "As we can see, the data has 10 columns and 601 rows "
   ]
  },
  {
   "cell_type": "markdown",
   "id": "c4d1669c",
   "metadata": {},
   "source": [
    "P.6 - b. How many variables have missing values?"
   ]
  },
  {
   "cell_type": "code",
   "execution_count": null,
   "id": "f897d6db",
   "metadata": {},
   "outputs": [],
   "source": [
    "data.count()"
   ]
  },
  {
   "cell_type": "code",
   "execution_count": null,
   "id": "07f9c40e",
   "metadata": {},
   "outputs": [],
   "source": [
    "data.isna().sum()"
   ]
  },
  {
   "cell_type": "code",
   "execution_count": null,
   "id": "86cbf8c0",
   "metadata": {},
   "outputs": [],
   "source": [
    "data.isna().sum().sum()"
   ]
  },
  {
   "cell_type": "code",
   "execution_count": null,
   "id": "32234df5",
   "metadata": {},
   "outputs": [],
   "source": [
    "data.isnull().any().sum()"
   ]
  },
  {
   "cell_type": "markdown",
   "id": "365044fa",
   "metadata": {},
   "source": [
    "Here, 4 variables having missing values, and the total number of missing ones is 6. "
   ]
  },
  {
   "cell_type": "markdown",
   "id": "0e1ec664",
   "metadata": {},
   "source": [
    "   "
   ]
  },
  {
   "cell_type": "markdown",
   "id": "b5924a14",
   "metadata": {},
   "source": [
    "P.6 - c. How many missing values are under each variable?"
   ]
  },
  {
   "cell_type": "code",
   "execution_count": null,
   "id": "0f1b20bd",
   "metadata": {},
   "outputs": [],
   "source": [
    "print(\" \\nCount total NaN in a DataFrame:\",\n",
    "       data.isnull().sum().sum())"
   ]
  },
  {
   "cell_type": "code",
   "execution_count": null,
   "id": "c42d6efe",
   "metadata": {},
   "outputs": [],
   "source": [
    "for i in data.columns:\n",
    "    print(i,':',data[i].isnull().sum(), ' missing values')"
   ]
  },
  {
   "cell_type": "markdown",
   "id": "697bd5f8",
   "metadata": {},
   "source": [
    "Hence, \n",
    "<ul> \n",
    "    <li>Gender has 2 missing values </li> \n",
    "    <li>Age has 2 missing values </li> \n",
    "    <li>Children has 1 missing value </li>\n",
    "    <li>Education has 1 missing values </li> \n",
    "</ul>"
   ]
  },
  {
   "cell_type": "markdown",
   "id": "cbe41052",
   "metadata": {},
   "source": [
    "P.6 - d. How many numeric and how many non-numeric variables are in the data?"
   ]
  },
  {
   "cell_type": "code",
   "execution_count": null,
   "id": "a855419a",
   "metadata": {},
   "outputs": [],
   "source": [
    "numeric_variables = data.select_dtypes(include='number').columns"
   ]
  },
  {
   "cell_type": "code",
   "execution_count": null,
   "id": "f2dcd0e9",
   "metadata": {},
   "outputs": [],
   "source": [
    "cols = data.columns"
   ]
  },
  {
   "cell_type": "code",
   "execution_count": null,
   "id": "0024a393",
   "metadata": {},
   "outputs": [],
   "source": [
    "print( 'The number of numeric variables is: ', len(numeric_variables))\n",
    "\n",
    "non_numeric_variables = len(cols) - len(numeric_variables)\n",
    "print('The the number of numeric values is: ', non_numeric_variables)"
   ]
  },
  {
   "cell_type": "markdown",
   "id": "d989cb0a",
   "metadata": {},
   "source": [
    "   "
   ]
  },
  {
   "cell_type": "markdown",
   "id": "b9a05764",
   "metadata": {},
   "source": [
    "P.6 - e. What is the gender of a customer whose ID number is 904? How many years has the same person been married? "
   ]
  },
  {
   "cell_type": "code",
   "execution_count": null,
   "id": "9e2db407",
   "metadata": {},
   "outputs": [],
   "source": [
    "data.loc[data['ID']==904, [\"ID\",\"gender\"]]"
   ]
  },
  {
   "cell_type": "code",
   "execution_count": null,
   "id": "3101faf4",
   "metadata": {},
   "outputs": [],
   "source": [
    "data.loc[data['ID']==904, [\"ID\",\"years married\"]]"
   ]
  },
  {
   "cell_type": "markdown",
   "id": "1a565f9f",
   "metadata": {},
   "source": [
    "                      "
   ]
  },
  {
   "cell_type": "markdown",
   "id": "b12fd407",
   "metadata": {},
   "source": [
    "P.6 - f. On average how many years people in dataset were involved in education (education)?"
   ]
  },
  {
   "cell_type": "code",
   "execution_count": null,
   "id": "24c980dc",
   "metadata": {},
   "outputs": [],
   "source": [
    "edu_mean = data[\"education\"].mean()\n",
    "print(\"The mean of education is: \", edu_mean)"
   ]
  },
  {
   "cell_type": "markdown",
   "id": "8abb1758",
   "metadata": {},
   "source": [
    "P.6 - g. What is the median of years of being married (years married)? "
   ]
  },
  {
   "cell_type": "code",
   "execution_count": null,
   "id": "56b4a837",
   "metadata": {},
   "outputs": [],
   "source": [
    "median_yMarried = data[\"years married\"].median()\n",
    "print(\"The median of years of being married is: \", median_yMarried)"
   ]
  },
  {
   "cell_type": "markdown",
   "id": "a4c9e8ee",
   "metadata": {},
   "source": [
    "P.6 - h. What is the 75th percentile of the rating variable?"
   ]
  },
  {
   "cell_type": "code",
   "execution_count": null,
   "id": "b57f3199",
   "metadata": {},
   "outputs": [],
   "source": [
    "print(\"The 75th percentile of the rating is:\", data[\"rating\"].quantile(0.75))"
   ]
  },
  {
   "cell_type": "markdown",
   "id": "ee902e68",
   "metadata": {},
   "source": [
    "         "
   ]
  },
  {
   "cell_type": "markdown",
   "id": "efac21cb",
   "metadata": {},
   "source": [
    "P.6 - i. What is the average age of people who have affair (affairs= “Yes” if a person had an affair and “No” if a person did not have an affair)?"
   ]
  },
  {
   "cell_type": "code",
   "execution_count": null,
   "id": "9d949fec",
   "metadata": {},
   "outputs": [],
   "source": [
    "data.groupby([\"affairs\"])[\"age\"].mean()"
   ]
  },
  {
   "cell_type": "markdown",
   "id": "8459d874",
   "metadata": {},
   "source": [
    "   "
   ]
  },
  {
   "cell_type": "markdown",
   "id": "b4e02cbb",
   "metadata": {},
   "source": [
    "P.6 - j. Create a function that will print number of observations of each category of object type variables. "
   ]
  },
  {
   "cell_type": "code",
   "execution_count": null,
   "id": "406546cd",
   "metadata": {},
   "outputs": [],
   "source": [
    "objects = data.select_dtypes(include='object')\n",
    "\n",
    "objects.value_counts()"
   ]
  },
  {
   "cell_type": "code",
   "execution_count": null,
   "id": "dcfa3817",
   "metadata": {},
   "outputs": [],
   "source": [
    "def objects_category_mannual(val):\n",
    "    print(\"The variable has categories, with values: \\n\", val.value_counts())\n",
    "    "
   ]
  },
  {
   "cell_type": "markdown",
   "id": "8f6b354f",
   "metadata": {},
   "source": [
    "Let's try the function with some variables"
   ]
  },
  {
   "cell_type": "code",
   "execution_count": null,
   "id": "ab6cf27b",
   "metadata": {},
   "outputs": [],
   "source": [
    "objects_category_mannual(data.affairs)"
   ]
  },
  {
   "cell_type": "code",
   "execution_count": null,
   "id": "6a7a4c47",
   "metadata": {},
   "outputs": [],
   "source": [
    "objects_category_mannual(data.gender)"
   ]
  },
  {
   "cell_type": "markdown",
   "id": "ba390791",
   "metadata": {},
   "source": [
    "The above operation returns the categories of each object type variable with the corresponding number of observations "
   ]
  },
  {
   "cell_type": "markdown",
   "id": "dcf00525",
   "metadata": {},
   "source": [
    "P.6 - k. Inside for loop use the function created above (6.j. assignment) to print the unique categories for the following variable: affairs,\t gender, children."
   ]
  },
  {
   "cell_type": "code",
   "execution_count": null,
   "id": "538269c2",
   "metadata": {},
   "outputs": [],
   "source": [
    "df_object = data[data.select_dtypes(include='object').columns]\n",
    "\n",
    "for x in df_object.columns: \n",
    "    objects_category_mannual(df_object[x])\n",
    "    \n",
    "    "
   ]
  },
  {
   "cell_type": "markdown",
   "id": "351bac19",
   "metadata": {},
   "source": [
    "   "
   ]
  },
  {
   "cell_type": "markdown",
   "id": "b6cccbb8",
   "metadata": {},
   "source": [
    "The following is more convinient version of the combination of parts j and k"
   ]
  },
  {
   "cell_type": "code",
   "execution_count": null,
   "id": "ae74e66d",
   "metadata": {},
   "outputs": [],
   "source": [
    "def obs_category1(df):\n",
    "    df_obj = df[df.select_dtypes(include='object').columns]\n",
    "    columns_obj = df_obj.columns\n",
    "    for i in df_obj.columns:\n",
    "        print(\"Tha variable \", i, \"has \",df_obj[i].unique(), \"categories\")\n",
    "        print(i, \"has categories with the following number of observations: \\n\", df_obj[i].value_counts(), \"\\n\")\n",
    "\n",
    "        \n",
    "obs_category1(data)"
   ]
  },
  {
   "cell_type": "markdown",
   "id": "1be278fb",
   "metadata": {},
   "source": [
    "For any given dataframe, we take only objects. Then we calculate values and print the categories."
   ]
  },
  {
   "cell_type": "markdown",
   "id": "82a1d410",
   "metadata": {},
   "source": [
    "               "
   ]
  },
  {
   "cell_type": "markdown",
   "id": "d9286e4a",
   "metadata": {},
   "source": [
    "**Problem 7.**"
   ]
  },
  {
   "cell_type": "markdown",
   "id": "62211459",
   "metadata": {},
   "source": [
    "P.7 - a. Remove all the missing values"
   ]
  },
  {
   "cell_type": "code",
   "execution_count": null,
   "id": "82764000",
   "metadata": {},
   "outputs": [],
   "source": [
    "data_clean = data.dropna()"
   ]
  },
  {
   "cell_type": "code",
   "execution_count": null,
   "id": "79e115e1",
   "metadata": {},
   "outputs": [],
   "source": [
    "data_clean.head(4)"
   ]
  },
  {
   "cell_type": "markdown",
   "id": "11bde72b",
   "metadata": {},
   "source": [
    "P.7 - b. Drop “ID” column"
   ]
  },
  {
   "cell_type": "code",
   "execution_count": null,
   "id": "2ab3cdbf",
   "metadata": {},
   "outputs": [],
   "source": [
    "data_clean = data_clean.drop('ID',axis=1)"
   ]
  },
  {
   "cell_type": "markdown",
   "id": "825c3fa9",
   "metadata": {},
   "source": [
    "P.7 - c. What is the new shape of the data after removing missing values and dropping one column?"
   ]
  },
  {
   "cell_type": "code",
   "execution_count": null,
   "id": "730c1c89",
   "metadata": {},
   "outputs": [],
   "source": [
    "data_clean.shape"
   ]
  },
  {
   "cell_type": "markdown",
   "id": "31603bd7",
   "metadata": {},
   "source": [
    "As a result of the cleaning, we have 9 columns and 595 filled variables"
   ]
  },
  {
   "cell_type": "markdown",
   "id": "141d0588",
   "metadata": {},
   "source": [
    "For more information about the new, celaned data, let's look at the summary"
   ]
  },
  {
   "cell_type": "code",
   "execution_count": null,
   "id": "81cefe1e",
   "metadata": {},
   "outputs": [],
   "source": [
    "data_clean.info()"
   ]
  },
  {
   "cell_type": "code",
   "execution_count": null,
   "id": "b7eaa78f",
   "metadata": {},
   "outputs": [],
   "source": [
    "data_clean.isnull().any().sum()"
   ]
  },
  {
   "cell_type": "markdown",
   "id": "57bb6e4c",
   "metadata": {},
   "source": [
    "As we can see again, all the variables have not-null values, and ID column is deleted from the dataframe. "
   ]
  },
  {
   "cell_type": "markdown",
   "id": "386b868d",
   "metadata": {},
   "source": [
    "  "
   ]
  },
  {
   "cell_type": "markdown",
   "id": "9cb8d5c2",
   "metadata": {},
   "source": [
    "P.7 - d. Some variable names contain spaces (e.g. years married). Replace the space with underscore (“_”). Use replace() function to do that. "
   ]
  },
  {
   "cell_type": "markdown",
   "id": "d86a9b7e",
   "metadata": {},
   "source": [
    "Before making changes, let's look at the variable names "
   ]
  },
  {
   "cell_type": "code",
   "execution_count": null,
   "id": "6ba7ce8b",
   "metadata": {},
   "outputs": [],
   "source": [
    "data_clean.columns"
   ]
  },
  {
   "cell_type": "markdown",
   "id": "c1be9b50",
   "metadata": {},
   "source": [
    "Here you can see the variable names befor making the changes. They have spaces. "
   ]
  },
  {
   "cell_type": "code",
   "execution_count": null,
   "id": "31910d21",
   "metadata": {},
   "outputs": [],
   "source": [
    "data_clean.columns = data_clean.columns.str.replace(\" \", \"_\")"
   ]
  },
  {
   "cell_type": "code",
   "execution_count": null,
   "id": "b5a831af",
   "metadata": {},
   "outputs": [],
   "source": [
    "data_clean.columns"
   ]
  },
  {
   "cell_type": "markdown",
   "id": "c3c4626a",
   "metadata": {},
   "source": [
    "As we can see, the spaces are changed into underscores "
   ]
  },
  {
   "cell_type": "markdown",
   "id": "2bac3642",
   "metadata": {},
   "source": [
    " "
   ]
  },
  {
   "cell_type": "markdown",
   "id": "7dc04946",
   "metadata": {},
   "source": [
    "P.7 - e.\tSeparate numeric and object variables. Save them as separate data under “data_num” and “data_obj” names for numeric and object variables respectively"
   ]
  },
  {
   "cell_type": "code",
   "execution_count": null,
   "id": "1bc41739",
   "metadata": {},
   "outputs": [],
   "source": [
    "data_num = data_clean.select_dtypes(include='number')\n",
    "data_num.columns"
   ]
  },
  {
   "cell_type": "code",
   "execution_count": null,
   "id": "baadf30f",
   "metadata": {},
   "outputs": [],
   "source": [
    "data_obj = data.select_dtypes(include='object')\n",
    "\n",
    "data_obj.columns"
   ]
  },
  {
   "cell_type": "markdown",
   "id": "dc8e007c",
   "metadata": {},
   "source": [
    "**Problem 8.**"
   ]
  },
  {
   "cell_type": "markdown",
   "id": "f579a84f",
   "metadata": {},
   "source": [
    "P.8 - a. Create a bar chart where x-axis is affairs and y-axis is an average age. Your chart, X and Y axes should have titles. Adjust figure size to (10,6). "
   ]
  },
  {
   "cell_type": "markdown",
   "id": "c4f8c73e",
   "metadata": {},
   "source": [
    "In order to have clean and reliable graphs, we need to use data_clean "
   ]
  },
  {
   "cell_type": "code",
   "execution_count": null,
   "id": "9435bf0c",
   "metadata": {},
   "outputs": [],
   "source": [
    "plt.figure(figsize=(10,6))\n",
    "\n",
    "plt.bar(data_clean.affairs.unique(),\n",
    "       data_clean.groupby(['affairs'])['age'].mean(),\n",
    "        color=['#61adff','#d78bf0'])\n",
    "plt.title(\"Average age for each category of affairs\") #giving a title to the graph\n",
    "plt.ylabel(\"Average Age\")\n",
    "plt.xlabel(\"Affairs\")\n",
    "\n",
    "plt.show()"
   ]
  },
  {
   "cell_type": "markdown",
   "id": "c22729b0",
   "metadata": {},
   "source": [
    "P.8 - b. By using for loop construct histogram for all numeric type variables in “data_num” dataset created in Problem 7.e."
   ]
  },
  {
   "cell_type": "code",
   "execution_count": null,
   "id": "6a35eecd",
   "metadata": {},
   "outputs": [],
   "source": [
    "for i in data_num.columns:\n",
    "    plt.figure(figsize=(9,5))\n",
    "    plt.hist(data_num[i], bins=30, color=['#747fcf'])\n",
    "    plt.title(\"Histograms for \" + i, loc='center')\n",
    "    plt.ylabel(\"Frequency\")\n",
    "    plt.xlabel(i)\n",
    "    plt.show()"
   ]
  },
  {
   "cell_type": "markdown",
   "id": "cb6e1789",
   "metadata": {},
   "source": [
    "         "
   ]
  }
 ],
 "metadata": {
  "kernelspec": {
   "display_name": "Python 3",
   "language": "python",
   "name": "python3"
  },
  "language_info": {
   "codemirror_mode": {
    "name": "ipython",
    "version": 3
   },
   "file_extension": ".py",
   "mimetype": "text/x-python",
   "name": "python",
   "nbconvert_exporter": "python",
   "pygments_lexer": "ipython3",
   "version": "3.8.8"
  }
 },
 "nbformat": 4,
 "nbformat_minor": 5
}
